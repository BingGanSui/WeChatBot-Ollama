{
 "cells": [
  {
   "metadata": {
    "ExecuteTime": {
     "end_time": "2025-02-04T14:31:38.562574Z",
     "start_time": "2025-02-04T14:31:38.559568Z"
    }
   },
   "cell_type": "code",
   "source": "from wcferry import Wcf,WxMsg",
   "id": "274a1f2e2556c28f",
   "outputs": [],
   "execution_count": 25
  },
  {
   "metadata": {
    "ExecuteTime": {
     "end_time": "2025-02-04T15:10:29.872778Z",
     "start_time": "2025-02-04T15:10:17.240515Z"
    }
   },
   "cell_type": "code",
   "source": "wcf=Wcf()",
   "id": "80ad5352087ca5e3",
   "outputs": [
    {
     "ename": "KeyboardInterrupt",
     "evalue": "",
     "output_type": "error",
     "traceback": [
      "\u001B[1;31m---------------------------------------------------------------------------\u001B[0m",
      "\u001B[1;31mTimeout\u001B[0m                                   Traceback (most recent call last)",
      "File \u001B[1;32m~\\anaconda3\\envs\\wechatbot\\Lib\\site-packages\\wcferry\\client.py:36\u001B[0m, in \u001B[0;36m_retry.<locals>.decorator.<locals>.wrapper\u001B[1;34m(*args, **kwargs)\u001B[0m\n\u001B[0;32m     35\u001B[0m \u001B[38;5;28;01mtry\u001B[39;00m:\n\u001B[1;32m---> 36\u001B[0m     ret \u001B[38;5;241m=\u001B[39m func(\u001B[38;5;241m*\u001B[39margs, \u001B[38;5;241m*\u001B[39m\u001B[38;5;241m*\u001B[39mkwargs)\n\u001B[0;32m     37\u001B[0m \u001B[38;5;28;01mexcept\u001B[39;00m pynng\u001B[38;5;241m.\u001B[39mTimeout \u001B[38;5;28;01mas\u001B[39;00m _:  \u001B[38;5;66;03m# 如果超时，重试\u001B[39;00m\n",
      "File \u001B[1;32m~\\anaconda3\\envs\\wechatbot\\Lib\\site-packages\\wcferry\\client.py:144\u001B[0m, in \u001B[0;36mWcf._send_request\u001B[1;34m(self, req)\u001B[0m\n\u001B[0;32m    143\u001B[0m rsp \u001B[38;5;241m=\u001B[39m wcf_pb2\u001B[38;5;241m.\u001B[39mResponse()\n\u001B[1;32m--> 144\u001B[0m rsp\u001B[38;5;241m.\u001B[39mParseFromString(\u001B[38;5;28mself\u001B[39m\u001B[38;5;241m.\u001B[39mcmd_socket\u001B[38;5;241m.\u001B[39mrecv_msg()\u001B[38;5;241m.\u001B[39mbytes)\n\u001B[0;32m    145\u001B[0m \u001B[38;5;28;01mreturn\u001B[39;00m rsp\n",
      "File \u001B[1;32m~\\anaconda3\\envs\\wechatbot\\Lib\\site-packages\\pynng\\nng.py:635\u001B[0m, in \u001B[0;36mSocket.recv_msg\u001B[1;34m(self, block)\u001B[0m\n\u001B[0;32m    634\u001B[0m msg_p \u001B[38;5;241m=\u001B[39m ffi\u001B[38;5;241m.\u001B[39mnew(\u001B[38;5;124m\"\u001B[39m\u001B[38;5;124mnng_msg **\u001B[39m\u001B[38;5;124m\"\u001B[39m)\n\u001B[1;32m--> 635\u001B[0m check_err(lib\u001B[38;5;241m.\u001B[39mnng_recvmsg(\u001B[38;5;28mself\u001B[39m\u001B[38;5;241m.\u001B[39msocket, msg_p, flags))\n\u001B[0;32m    636\u001B[0m msg \u001B[38;5;241m=\u001B[39m msg_p[\u001B[38;5;241m0\u001B[39m]\n",
      "File \u001B[1;32m~\\anaconda3\\envs\\wechatbot\\Lib\\site-packages\\pynng\\exceptions.py:202\u001B[0m, in \u001B[0;36mcheck_err\u001B[1;34m(err)\u001B[0m\n\u001B[0;32m    201\u001B[0m exc \u001B[38;5;241m=\u001B[39m EXCEPTION_MAP\u001B[38;5;241m.\u001B[39mget(err, NNGException)\n\u001B[1;32m--> 202\u001B[0m \u001B[38;5;28;01mraise\u001B[39;00m exc(string, err)\n",
      "\u001B[1;31mTimeout\u001B[0m: Timed out",
      "\nDuring handling of the above exception, another exception occurred:\n",
      "\u001B[1;31mKeyboardInterrupt\u001B[0m                         Traceback (most recent call last)",
      "Cell \u001B[1;32mIn[27], line 1\u001B[0m\n\u001B[1;32m----> 1\u001B[0m wcf\u001B[38;5;241m=\u001B[39mWcf()\n",
      "File \u001B[1;32m~\\anaconda3\\envs\\wechatbot\\Lib\\site-packages\\wcferry\\client.py:111\u001B[0m, in \u001B[0;36mWcf.__init__\u001B[1;34m(self, host, port, debug, block)\u001B[0m\n\u001B[0;32m    109\u001B[0m \u001B[38;5;28;01mif\u001B[39;00m block:\n\u001B[0;32m    110\u001B[0m     \u001B[38;5;28mself\u001B[39m\u001B[38;5;241m.\u001B[39mLOG\u001B[38;5;241m.\u001B[39minfo(\u001B[38;5;124m\"\u001B[39m\u001B[38;5;124m等待微信登录...\u001B[39m\u001B[38;5;124m\"\u001B[39m)\n\u001B[1;32m--> 111\u001B[0m     \u001B[38;5;28;01mwhile\u001B[39;00m \u001B[38;5;129;01mnot\u001B[39;00m \u001B[38;5;28mself\u001B[39m\u001B[38;5;241m.\u001B[39mis_login():     \u001B[38;5;66;03m# 等待微信登录成功\u001B[39;00m\n\u001B[0;32m    112\u001B[0m         sleep(\u001B[38;5;241m1\u001B[39m)\n\u001B[0;32m    113\u001B[0m     \u001B[38;5;28mself\u001B[39m\u001B[38;5;241m.\u001B[39mself_wxid \u001B[38;5;241m=\u001B[39m \u001B[38;5;28mself\u001B[39m\u001B[38;5;241m.\u001B[39mget_self_wxid()\n",
      "File \u001B[1;32m~\\anaconda3\\envs\\wechatbot\\Lib\\site-packages\\wcferry\\client.py:164\u001B[0m, in \u001B[0;36mWcf.is_login\u001B[1;34m(self)\u001B[0m\n\u001B[0;32m    162\u001B[0m req \u001B[38;5;241m=\u001B[39m wcf_pb2\u001B[38;5;241m.\u001B[39mRequest()\n\u001B[0;32m    163\u001B[0m req\u001B[38;5;241m.\u001B[39mfunc \u001B[38;5;241m=\u001B[39m wcf_pb2\u001B[38;5;241m.\u001B[39mFUNC_IS_LOGIN  \u001B[38;5;66;03m# FUNC_IS_LOGIN\u001B[39;00m\n\u001B[1;32m--> 164\u001B[0m rsp \u001B[38;5;241m=\u001B[39m \u001B[38;5;28mself\u001B[39m\u001B[38;5;241m.\u001B[39m_send_request(req)\n\u001B[0;32m    166\u001B[0m \u001B[38;5;28;01mreturn\u001B[39;00m rsp\u001B[38;5;241m.\u001B[39mstatus \u001B[38;5;241m==\u001B[39m \u001B[38;5;241m1\u001B[39m\n",
      "File \u001B[1;32m~\\anaconda3\\envs\\wechatbot\\Lib\\site-packages\\wcferry\\client.py:39\u001B[0m, in \u001B[0;36m_retry.<locals>.decorator.<locals>.wrapper\u001B[1;34m(*args, **kwargs)\u001B[0m\n\u001B[0;32m     37\u001B[0m \u001B[38;5;28;01mexcept\u001B[39;00m pynng\u001B[38;5;241m.\u001B[39mTimeout \u001B[38;5;28;01mas\u001B[39;00m _:  \u001B[38;5;66;03m# 如果超时，重试\u001B[39;00m\n\u001B[0;32m     38\u001B[0m     \u001B[38;5;28;01mtry\u001B[39;00m:\n\u001B[1;32m---> 39\u001B[0m         ret \u001B[38;5;241m=\u001B[39m func(\u001B[38;5;241m*\u001B[39margs, \u001B[38;5;241m*\u001B[39m\u001B[38;5;241m*\u001B[39mkwargs)\n\u001B[0;32m     40\u001B[0m     \u001B[38;5;28;01mexcept\u001B[39;00m \u001B[38;5;167;01mException\u001B[39;00m \u001B[38;5;28;01mas\u001B[39;00m e:\n\u001B[0;32m     41\u001B[0m         logerror(e)\n",
      "File \u001B[1;32m~\\anaconda3\\envs\\wechatbot\\Lib\\site-packages\\wcferry\\client.py:144\u001B[0m, in \u001B[0;36mWcf._send_request\u001B[1;34m(self, req)\u001B[0m\n\u001B[0;32m    142\u001B[0m \u001B[38;5;28mself\u001B[39m\u001B[38;5;241m.\u001B[39mcmd_socket\u001B[38;5;241m.\u001B[39msend(data)\n\u001B[0;32m    143\u001B[0m rsp \u001B[38;5;241m=\u001B[39m wcf_pb2\u001B[38;5;241m.\u001B[39mResponse()\n\u001B[1;32m--> 144\u001B[0m rsp\u001B[38;5;241m.\u001B[39mParseFromString(\u001B[38;5;28mself\u001B[39m\u001B[38;5;241m.\u001B[39mcmd_socket\u001B[38;5;241m.\u001B[39mrecv_msg()\u001B[38;5;241m.\u001B[39mbytes)\n\u001B[0;32m    145\u001B[0m \u001B[38;5;28;01mreturn\u001B[39;00m rsp\n",
      "File \u001B[1;32m~\\anaconda3\\envs\\wechatbot\\Lib\\site-packages\\pynng\\nng.py:635\u001B[0m, in \u001B[0;36mSocket.recv_msg\u001B[1;34m(self, block)\u001B[0m\n\u001B[0;32m    633\u001B[0m     flags \u001B[38;5;241m|\u001B[39m\u001B[38;5;241m=\u001B[39m lib\u001B[38;5;241m.\u001B[39mNNG_FLAG_NONBLOCK\n\u001B[0;32m    634\u001B[0m msg_p \u001B[38;5;241m=\u001B[39m ffi\u001B[38;5;241m.\u001B[39mnew(\u001B[38;5;124m\"\u001B[39m\u001B[38;5;124mnng_msg **\u001B[39m\u001B[38;5;124m\"\u001B[39m)\n\u001B[1;32m--> 635\u001B[0m check_err(lib\u001B[38;5;241m.\u001B[39mnng_recvmsg(\u001B[38;5;28mself\u001B[39m\u001B[38;5;241m.\u001B[39msocket, msg_p, flags))\n\u001B[0;32m    636\u001B[0m msg \u001B[38;5;241m=\u001B[39m msg_p[\u001B[38;5;241m0\u001B[39m]\n\u001B[0;32m    637\u001B[0m msg \u001B[38;5;241m=\u001B[39m Message(msg)\n",
      "\u001B[1;31mKeyboardInterrupt\u001B[0m: "
     ]
    }
   ],
   "execution_count": 27
  },
  {
   "metadata": {
    "ExecuteTime": {
     "end_time": "2025-02-04T14:26:44.918799Z",
     "start_time": "2025-02-04T14:26:44.914530Z"
    }
   },
   "cell_type": "code",
   "source": "wcf.is_login()",
   "id": "c39a88be3fccea5b",
   "outputs": [
    {
     "data": {
      "text/plain": [
       "True"
      ]
     },
     "execution_count": 19,
     "metadata": {},
     "output_type": "execute_result"
    }
   ],
   "execution_count": 19
  },
  {
   "metadata": {
    "ExecuteTime": {
     "end_time": "2025-02-04T14:26:58.578913Z",
     "start_time": "2025-02-04T14:26:58.574767Z"
    }
   },
   "cell_type": "code",
   "source": "wcf.get_user_info()",
   "id": "af1100f1cea81210",
   "outputs": [
    {
     "data": {
      "text/plain": [
       "{'wxid': 'wxid_zseiycl3q56w22',\n",
       " 'name': 'Bot',\n",
       " 'mobile': '18987119518',\n",
       " 'home': 'C:\\\\Users\\\\qwq20\\\\Documents\\\\WeChat Files\\\\'}"
      ]
     },
     "execution_count": 20,
     "metadata": {},
     "output_type": "execute_result"
    }
   ],
   "execution_count": 20
  },
  {
   "metadata": {
    "ExecuteTime": {
     "end_time": "2025-02-04T14:27:18.148213Z",
     "start_time": "2025-02-04T14:27:18.142908Z"
    }
   },
   "cell_type": "code",
   "source": "contacts = wcf.get_contacts()",
   "id": "1c4d73829282e771",
   "outputs": [],
   "execution_count": 21
  },
  {
   "metadata": {
    "ExecuteTime": {
     "end_time": "2025-02-04T14:28:14.840449Z",
     "start_time": "2025-02-04T14:28:14.836109Z"
    }
   },
   "cell_type": "code",
   "source": [
    "for contact in contacts:\n",
    "    print(contact)"
   ],
   "id": "6136e3840850d39e",
   "outputs": [
    {
     "name": "stdout",
     "output_type": "stream",
     "text": [
      "{'wxid': 'fmessage', 'code': '', 'remark': '', 'name': '朋友推荐消息', 'country': '', 'province': '', 'city': '', 'gender': ''}\n",
      "{'wxid': 'medianote', 'code': '', 'remark': '', 'name': '语音记事本', 'country': '', 'province': '', 'city': '', 'gender': ''}\n",
      "{'wxid': 'wxid_a4g0vnv07fcs11', 'code': '_vortioxetine', 'remark': '', 'name': 'o', 'country': 'FO', 'province': '', 'city': '', 'gender': '男'}\n",
      "{'wxid': 'wxid_upjv71pgteju32', 'code': 'ymd787931312', 'remark': '柳暗镇', 'name': 'TheaNott', 'country': 'DK', 'province': '', 'city': '', 'gender': '男'}\n",
      "{'wxid': 'filehelper', 'code': '', 'remark': '', 'name': '文件传输助手', 'country': '', 'province': '', 'city': '', 'gender': ''}\n"
     ]
    }
   ],
   "execution_count": 23
  },
  {
   "metadata": {},
   "cell_type": "code",
   "outputs": [],
   "execution_count": null,
   "source": "",
   "id": "1915db8e9d16a666"
  }
 ],
 "metadata": {
  "kernelspec": {
   "display_name": "Python 3",
   "language": "python",
   "name": "python3"
  },
  "language_info": {
   "codemirror_mode": {
    "name": "ipython",
    "version": 2
   },
   "file_extension": ".py",
   "mimetype": "text/x-python",
   "name": "python",
   "nbconvert_exporter": "python",
   "pygments_lexer": "ipython2",
   "version": "2.7.6"
  }
 },
 "nbformat": 4,
 "nbformat_minor": 5
}
