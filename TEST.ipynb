{
 "cells": [
  {
   "metadata": {
    "ExecuteTime": {
     "end_time": "2025-02-07T13:49:07.335224Z",
     "start_time": "2025-02-07T13:48:59.218957Z"
    }
   },
   "cell_type": "code",
   "source": "from fetch_html import get_fetch",
   "id": "b9180cfe507acce2",
   "outputs": [
    {
     "ename": "ImportError",
     "evalue": "cannot import name 'get_fetch' from 'fetch_html' (C:\\Py_File\\WeChatBot\\fetch_html.py)",
     "output_type": "error",
     "traceback": [
      "\u001B[1;31m---------------------------------------------------------------------------\u001B[0m",
      "\u001B[1;31mImportError\u001B[0m                               Traceback (most recent call last)",
      "Cell \u001B[1;32mIn[141], line 1\u001B[0m\n\u001B[1;32m----> 1\u001B[0m \u001B[38;5;28;01mfrom\u001B[39;00m \u001B[38;5;21;01mfetch_html\u001B[39;00m \u001B[38;5;28;01mimport\u001B[39;00m get_fetch\n",
      "\u001B[1;31mImportError\u001B[0m: cannot import name 'get_fetch' from 'fetch_html' (C:\\Py_File\\WeChatBot\\fetch_html.py)"
     ]
    }
   ],
   "execution_count": 141
  },
  {
   "metadata": {},
   "cell_type": "code",
   "outputs": [],
   "execution_count": null,
   "source": "",
   "id": "e13997a24e62d3ad"
  }
 ],
 "metadata": {
  "kernelspec": {
   "display_name": "Python 3",
   "language": "python",
   "name": "python3"
  },
  "language_info": {
   "codemirror_mode": {
    "name": "ipython",
    "version": 2
   },
   "file_extension": ".py",
   "mimetype": "text/x-python",
   "name": "python",
   "nbconvert_exporter": "python",
   "pygments_lexer": "ipython2",
   "version": "2.7.6"
  }
 },
 "nbformat": 4,
 "nbformat_minor": 5
}
